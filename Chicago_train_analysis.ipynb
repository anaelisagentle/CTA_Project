{
 "cells": [
  {
   "cell_type": "markdown",
   "metadata": {},
   "source": [
    "# Datascope Take Home Challenge: Chicago Train Analysis"
   ]
  },
  {
   "cell_type": "markdown",
   "metadata": {},
   "source": [
    "## Introduction"
   ]
  },
  {
   "cell_type": "markdown",
   "metadata": {},
   "source": [
    "This challenge uses data representative of the number of people to go through the turnstiles at every Chicago \"L\" station since 2001. For more information on the dataset, check out the [readme](https://data.cityofchicago.org/api/assets/CCAFA078-D8FC-43EE-8FAA-28007103DA2E?download=true) documentation. \n",
    "\n",
    "For more information on the work and findings in this notebook, please see the executive summary attached with the submission."
   ]
  },
  {
   "cell_type": "markdown",
   "metadata": {
    "heading_collapsed": true
   },
   "source": [
    "## Imports"
   ]
  },
  {
   "cell_type": "code",
   "execution_count": 390,
   "metadata": {
    "ExecuteTime": {
     "end_time": "2017-05-12T08:07:36.991855Z",
     "start_time": "2017-05-12T08:07:35.870216"
    },
    "collapsed": false,
    "hidden": true
   },
   "outputs": [],
   "source": [
    "import pandas as pd\n",
    "import numpy as np\n",
    "import seaborn as sns\n",
    "\n",
    "import matplotlib as mpl\n",
    "import matplotlib.pyplot as plt\n",
    "from geopy.geocoders import Nominatim\n",
    "\n",
    "%matplotlib inline"
   ]
  },
  {
   "cell_type": "markdown",
   "metadata": {
    "heading_collapsed": true
   },
   "source": [
    "## Download and Organize Data"
   ]
  },
  {
   "cell_type": "markdown",
   "metadata": {
    "hidden": true
   },
   "source": [
    "First, download the [dataset](https://data.cityofchicago.org/Transportation/CTA-Ridership-L-Station-Entries-Daily-Totals/5neh-572f) as a CSV file and move it to your working directory. Then upload the data to your notebook as a Pandas dataframe. Here I've converted the \"date\" column into a datetime object to simplify exploratory data analysis and visualization moving forward. "
   ]
  },
  {
   "cell_type": "code",
   "execution_count": 23,
   "metadata": {
    "ExecuteTime": {
     "end_time": "2017-05-10T13:11:15.956143Z",
     "start_time": "2017-05-10T13:11:15.951108"
    },
    "collapsed": false,
    "hidden": true
   },
   "outputs": [],
   "source": [
    "# find way to scrape off website and load using function\n",
    "def create_df(file):\n",
    "    \"\"\"Input a csv file of L rides and return dataframe with parsed dates in 3rd column\"\"\"\n",
    "    return pd.read_csv(file, parse_dates = [2], infer_datetime_format = True)"
   ]
  },
  {
   "cell_type": "code",
   "execution_count": 24,
   "metadata": {
    "ExecuteTime": {
     "end_time": "2017-05-10T13:11:21.041007Z",
     "start_time": "2017-05-10T13:11:16.661489"
    },
    "collapsed": true,
    "hidden": true
   },
   "outputs": [],
   "source": [
    "# create data frame\n",
    "df = create_df(\"CTA_-_Ridership_-__L__Station_Entries_-_Daily_Totals.csv\")"
   ]
  },
  {
   "cell_type": "code",
   "execution_count": 22,
   "metadata": {
    "ExecuteTime": {
     "end_time": "2017-05-10T13:10:07.493442Z",
     "start_time": "2017-05-10T13:10:07.266026"
    },
    "collapsed": false,
    "hidden": true
   },
   "outputs": [
    {
     "name": "stdout",
     "output_type": "stream",
     "text": [
      "<class 'pandas.core.frame.DataFrame'>\n",
      "RangeIndex: 826894 entries, 0 to 826893\n",
      "Data columns (total 5 columns):\n",
      "station_id     826894 non-null int64\n",
      "stationname    826894 non-null object\n",
      "date           826894 non-null datetime64[ns]\n",
      "daytype        826894 non-null object\n",
      "rides          826894 non-null int64\n",
      "dtypes: datetime64[ns](1), int64(2), object(2)\n",
      "memory usage: 31.5+ MB\n"
     ]
    }
   ],
   "source": [
    "# basic info on df, observe that the date column now has datetime values\n",
    "df.info()"
   ]
  },
  {
   "cell_type": "code",
   "execution_count": 124,
   "metadata": {
    "ExecuteTime": {
     "end_time": "2017-05-11T11:19:59.164306Z",
     "start_time": "2017-05-11T11:19:59.123553"
    },
    "collapsed": false,
    "hidden": true
   },
   "outputs": [
    {
     "data": {
      "text/html": [
       "<div>\n",
       "<table border=\"1\" class=\"dataframe\">\n",
       "  <thead>\n",
       "    <tr style=\"text-align: right;\">\n",
       "      <th></th>\n",
       "      <th>station_id</th>\n",
       "      <th>stationname</th>\n",
       "      <th>date</th>\n",
       "      <th>daytype</th>\n",
       "      <th>rides</th>\n",
       "    </tr>\n",
       "  </thead>\n",
       "  <tbody>\n",
       "    <tr>\n",
       "      <th>0</th>\n",
       "      <td>40010</td>\n",
       "      <td>Austin-Forest Park</td>\n",
       "      <td>2001-01-01</td>\n",
       "      <td>U</td>\n",
       "      <td>290</td>\n",
       "    </tr>\n",
       "    <tr>\n",
       "      <th>1</th>\n",
       "      <td>40020</td>\n",
       "      <td>Harlem-Lake</td>\n",
       "      <td>2001-01-01</td>\n",
       "      <td>U</td>\n",
       "      <td>633</td>\n",
       "    </tr>\n",
       "    <tr>\n",
       "      <th>2</th>\n",
       "      <td>40030</td>\n",
       "      <td>Pulaski-Lake</td>\n",
       "      <td>2001-01-01</td>\n",
       "      <td>U</td>\n",
       "      <td>483</td>\n",
       "    </tr>\n",
       "    <tr>\n",
       "      <th>3</th>\n",
       "      <td>40040</td>\n",
       "      <td>Quincy/Wells</td>\n",
       "      <td>2001-01-01</td>\n",
       "      <td>U</td>\n",
       "      <td>374</td>\n",
       "    </tr>\n",
       "    <tr>\n",
       "      <th>4</th>\n",
       "      <td>40050</td>\n",
       "      <td>Davis</td>\n",
       "      <td>2001-01-01</td>\n",
       "      <td>U</td>\n",
       "      <td>804</td>\n",
       "    </tr>\n",
       "  </tbody>\n",
       "</table>\n",
       "</div>"
      ],
      "text/plain": [
       "   station_id         stationname       date daytype  rides\n",
       "0       40010  Austin-Forest Park 2001-01-01       U    290\n",
       "1       40020         Harlem-Lake 2001-01-01       U    633\n",
       "2       40030        Pulaski-Lake 2001-01-01       U    483\n",
       "3       40040        Quincy/Wells 2001-01-01       U    374\n",
       "4       40050               Davis 2001-01-01       U    804"
      ]
     },
     "execution_count": 124,
     "metadata": {},
     "output_type": "execute_result"
    }
   ],
   "source": [
    "# snapshot of dataframe\n",
    "df.head()"
   ]
  },
  {
   "cell_type": "code",
   "execution_count": 65,
   "metadata": {
    "ExecuteTime": {
     "end_time": "2017-05-10T16:35:01.854901Z",
     "start_time": "2017-05-10T16:35:01.838589"
    },
    "collapsed": false,
    "hidden": true
   },
   "outputs": [],
   "source": [
    "# sanity check that there are no negative values for rides\n",
    "assert (df.rides < 0).sum() == 0 "
   ]
  },
  {
   "cell_type": "markdown",
   "metadata": {
    "ExecuteTime": {
     "end_time": "2017-05-10T15:01:38.291064Z",
     "start_time": "2017-05-10T15:01:38.224455"
    },
    "hidden": true
   },
   "source": [
    "Note that there are stations that show zero rides on a given day. The readme indicates bus stations are included in the data set. Stations with zero rides are likely bus stations. If necessary, bus stations can be removed by locating a separate dataset of all bus station names and removing those name from the \"stationname\" column."
   ]
  },
  {
   "cell_type": "markdown",
   "metadata": {},
   "source": [
    "## Warm Up Questions"
   ]
  },
  {
   "cell_type": "markdown",
   "metadata": {
    "heading_collapsed": true
   },
   "source": [
    "### Question 1"
   ]
  },
  {
   "cell_type": "markdown",
   "metadata": {
    "hidden": true
   },
   "source": [
    "**Which stop has the highest average ridership per day, and what is it?**\n",
    "\n",
    "For this question I created a pivot table and set each unique date as the index with the total daily rides per station as columns. I then average the rides per station and choose five with the highest averages. The analysis below shows the Clark/Lake station has the highest average rides at 13663.540513 per day. This makes sense because Clark/Lake is a popular station in the loop that transfers to 6 lines. For comparision, I included the top five stations as well.\n",
    "\n",
    "It's important to note that this average is taken over the past 16 years and doesn't capture the nuances of changes over time. We are also looking at every day available in the dataset rather than analzying the changes on weekdays vs weekends, holidays and fluctuations in seasonality. These are important details to analze to find meaningful insights."
   ]
  },
  {
   "cell_type": "code",
   "execution_count": 50,
   "metadata": {
    "ExecuteTime": {
     "end_time": "2017-05-10T15:40:20.842401Z",
     "start_time": "2017-05-10T15:40:20.094529"
    },
    "collapsed": true,
    "hidden": true
   },
   "outputs": [],
   "source": [
    "# pivot table of the sum of rides per day per station\n",
    "pt_date = df.pivot_table(index=\"date\", columns=\"stationname\", \n",
    "                         values=\"rides\", aggfunc=\"sum\")"
   ]
  },
  {
   "cell_type": "code",
   "execution_count": 70,
   "metadata": {
    "ExecuteTime": {
     "end_time": "2017-05-10T16:44:38.567465Z",
     "start_time": "2017-05-10T16:44:38.520962"
    },
    "collapsed": false,
    "hidden": true
   },
   "outputs": [
    {
     "data": {
      "text/html": [
       "<div>\n",
       "<table border=\"1\" class=\"dataframe\">\n",
       "  <thead>\n",
       "    <tr style=\"text-align: right;\">\n",
       "      <th>stationname</th>\n",
       "      <th>18th</th>\n",
       "      <th>35-Bronzeville-IIT</th>\n",
       "      <th>35th/Archer</th>\n",
       "      <th>43rd</th>\n",
       "      <th>47th-Dan Ryan</th>\n",
       "      <th>47th-South Elevated</th>\n",
       "      <th>51st</th>\n",
       "      <th>54th/Cermak</th>\n",
       "      <th>63rd-Dan Ryan</th>\n",
       "      <th>69th</th>\n",
       "      <th>...</th>\n",
       "      <th>Washington/Dearborn</th>\n",
       "      <th>Washington/State</th>\n",
       "      <th>Washington/Wells</th>\n",
       "      <th>Wellington</th>\n",
       "      <th>Western-Brown</th>\n",
       "      <th>Western-Cermak</th>\n",
       "      <th>Western-Forest Park</th>\n",
       "      <th>Western-Orange</th>\n",
       "      <th>Western/Milwaukee</th>\n",
       "      <th>Wilson</th>\n",
       "    </tr>\n",
       "    <tr>\n",
       "      <th>date</th>\n",
       "      <th></th>\n",
       "      <th></th>\n",
       "      <th></th>\n",
       "      <th></th>\n",
       "      <th></th>\n",
       "      <th></th>\n",
       "      <th></th>\n",
       "      <th></th>\n",
       "      <th></th>\n",
       "      <th></th>\n",
       "      <th></th>\n",
       "      <th></th>\n",
       "      <th></th>\n",
       "      <th></th>\n",
       "      <th></th>\n",
       "      <th></th>\n",
       "      <th></th>\n",
       "      <th></th>\n",
       "      <th></th>\n",
       "      <th></th>\n",
       "      <th></th>\n",
       "    </tr>\n",
       "  </thead>\n",
       "  <tbody>\n",
       "    <tr>\n",
       "      <th>2001-01-01</th>\n",
       "      <td>0.0</td>\n",
       "      <td>448.0</td>\n",
       "      <td>318.0</td>\n",
       "      <td>211.0</td>\n",
       "      <td>787.0</td>\n",
       "      <td>427.0</td>\n",
       "      <td>364.0</td>\n",
       "      <td>0.0</td>\n",
       "      <td>1366.0</td>\n",
       "      <td>2366.0</td>\n",
       "      <td>...</td>\n",
       "      <td>1039.0</td>\n",
       "      <td>1181.0</td>\n",
       "      <td>259.0</td>\n",
       "      <td>270.0</td>\n",
       "      <td>715.0</td>\n",
       "      <td>0.0</td>\n",
       "      <td>318.0</td>\n",
       "      <td>460.0</td>\n",
       "      <td>621.0</td>\n",
       "      <td>1449.0</td>\n",
       "    </tr>\n",
       "    <tr>\n",
       "      <th>2001-01-02</th>\n",
       "      <td>813.0</td>\n",
       "      <td>1195.0</td>\n",
       "      <td>1654.0</td>\n",
       "      <td>640.0</td>\n",
       "      <td>1902.0</td>\n",
       "      <td>1116.0</td>\n",
       "      <td>913.0</td>\n",
       "      <td>1404.0</td>\n",
       "      <td>3047.0</td>\n",
       "      <td>5732.0</td>\n",
       "      <td>...</td>\n",
       "      <td>7757.0</td>\n",
       "      <td>6507.0</td>\n",
       "      <td>6788.0</td>\n",
       "      <td>2194.0</td>\n",
       "      <td>3194.0</td>\n",
       "      <td>418.0</td>\n",
       "      <td>702.0</td>\n",
       "      <td>2627.0</td>\n",
       "      <td>2504.0</td>\n",
       "      <td>3519.0</td>\n",
       "    </tr>\n",
       "    <tr>\n",
       "      <th>2001-01-03</th>\n",
       "      <td>881.0</td>\n",
       "      <td>1357.0</td>\n",
       "      <td>1777.0</td>\n",
       "      <td>713.0</td>\n",
       "      <td>1965.0</td>\n",
       "      <td>1216.0</td>\n",
       "      <td>1071.0</td>\n",
       "      <td>1466.0</td>\n",
       "      <td>3350.0</td>\n",
       "      <td>5977.0</td>\n",
       "      <td>...</td>\n",
       "      <td>8257.0</td>\n",
       "      <td>6783.0</td>\n",
       "      <td>7321.0</td>\n",
       "      <td>2449.0</td>\n",
       "      <td>3272.0</td>\n",
       "      <td>457.0</td>\n",
       "      <td>812.0</td>\n",
       "      <td>2846.0</td>\n",
       "      <td>2601.0</td>\n",
       "      <td>4211.0</td>\n",
       "    </tr>\n",
       "    <tr>\n",
       "      <th>2001-01-04</th>\n",
       "      <td>884.0</td>\n",
       "      <td>1389.0</td>\n",
       "      <td>1878.0</td>\n",
       "      <td>695.0</td>\n",
       "      <td>2130.0</td>\n",
       "      <td>1165.0</td>\n",
       "      <td>994.0</td>\n",
       "      <td>1530.0</td>\n",
       "      <td>3371.0</td>\n",
       "      <td>6206.0</td>\n",
       "      <td>...</td>\n",
       "      <td>8303.0</td>\n",
       "      <td>6906.0</td>\n",
       "      <td>7350.0</td>\n",
       "      <td>2548.0</td>\n",
       "      <td>3398.0</td>\n",
       "      <td>478.0</td>\n",
       "      <td>774.0</td>\n",
       "      <td>3086.0</td>\n",
       "      <td>2837.0</td>\n",
       "      <td>4132.0</td>\n",
       "    </tr>\n",
       "    <tr>\n",
       "      <th>2001-01-05</th>\n",
       "      <td>925.0</td>\n",
       "      <td>1478.0</td>\n",
       "      <td>1825.0</td>\n",
       "      <td>724.0</td>\n",
       "      <td>2182.0</td>\n",
       "      <td>1349.0</td>\n",
       "      <td>1068.0</td>\n",
       "      <td>1554.0</td>\n",
       "      <td>3456.0</td>\n",
       "      <td>6436.0</td>\n",
       "      <td>...</td>\n",
       "      <td>8482.0</td>\n",
       "      <td>6802.0</td>\n",
       "      <td>6983.0</td>\n",
       "      <td>2466.0</td>\n",
       "      <td>3346.0</td>\n",
       "      <td>505.0</td>\n",
       "      <td>860.0</td>\n",
       "      <td>3073.0</td>\n",
       "      <td>2740.0</td>\n",
       "      <td>4144.0</td>\n",
       "    </tr>\n",
       "  </tbody>\n",
       "</table>\n",
       "<p>5 rows × 147 columns</p>\n",
       "</div>"
      ],
      "text/plain": [
       "stationname   18th  35-Bronzeville-IIT  35th/Archer   43rd  47th-Dan Ryan  \\\n",
       "date                                                                        \n",
       "2001-01-01     0.0               448.0        318.0  211.0          787.0   \n",
       "2001-01-02   813.0              1195.0       1654.0  640.0         1902.0   \n",
       "2001-01-03   881.0              1357.0       1777.0  713.0         1965.0   \n",
       "2001-01-04   884.0              1389.0       1878.0  695.0         2130.0   \n",
       "2001-01-05   925.0              1478.0       1825.0  724.0         2182.0   \n",
       "\n",
       "stationname  47th-South Elevated    51st  54th/Cermak  63rd-Dan Ryan    69th  \\\n",
       "date                                                                           \n",
       "2001-01-01                 427.0   364.0          0.0         1366.0  2366.0   \n",
       "2001-01-02                1116.0   913.0       1404.0         3047.0  5732.0   \n",
       "2001-01-03                1216.0  1071.0       1466.0         3350.0  5977.0   \n",
       "2001-01-04                1165.0   994.0       1530.0         3371.0  6206.0   \n",
       "2001-01-05                1349.0  1068.0       1554.0         3456.0  6436.0   \n",
       "\n",
       "stationname   ...    Washington/Dearborn  Washington/State  Washington/Wells  \\\n",
       "date          ...                                                              \n",
       "2001-01-01    ...                 1039.0            1181.0             259.0   \n",
       "2001-01-02    ...                 7757.0            6507.0            6788.0   \n",
       "2001-01-03    ...                 8257.0            6783.0            7321.0   \n",
       "2001-01-04    ...                 8303.0            6906.0            7350.0   \n",
       "2001-01-05    ...                 8482.0            6802.0            6983.0   \n",
       "\n",
       "stationname  Wellington  Western-Brown  Western-Cermak  Western-Forest Park  \\\n",
       "date                                                                          \n",
       "2001-01-01        270.0          715.0             0.0                318.0   \n",
       "2001-01-02       2194.0         3194.0           418.0                702.0   \n",
       "2001-01-03       2449.0         3272.0           457.0                812.0   \n",
       "2001-01-04       2548.0         3398.0           478.0                774.0   \n",
       "2001-01-05       2466.0         3346.0           505.0                860.0   \n",
       "\n",
       "stationname  Western-Orange  Western/Milwaukee  Wilson  \n",
       "date                                                    \n",
       "2001-01-01            460.0              621.0  1449.0  \n",
       "2001-01-02           2627.0             2504.0  3519.0  \n",
       "2001-01-03           2846.0             2601.0  4211.0  \n",
       "2001-01-04           3086.0             2837.0  4132.0  \n",
       "2001-01-05           3073.0             2740.0  4144.0  \n",
       "\n",
       "[5 rows x 147 columns]"
      ]
     },
     "execution_count": 70,
     "metadata": {},
     "output_type": "execute_result"
    }
   ],
   "source": [
    "# view pivot table\n",
    "pt_date.head()"
   ]
  },
  {
   "cell_type": "code",
   "execution_count": 58,
   "metadata": {
    "ExecuteTime": {
     "end_time": "2017-05-10T16:29:38.423027Z",
     "start_time": "2017-05-10T16:29:38.386642"
    },
    "collapsed": false,
    "hidden": true
   },
   "outputs": [],
   "source": [
    "# create a series of average daily ridership per station\n",
    "station_daily_avg = pt_date.mean(axis=0)"
   ]
  },
  {
   "cell_type": "code",
   "execution_count": 63,
   "metadata": {
    "ExecuteTime": {
     "end_time": "2017-05-10T16:30:26.471936Z",
     "start_time": "2017-05-10T16:30:26.465722"
    },
    "collapsed": false,
    "hidden": true
   },
   "outputs": [
    {
     "data": {
      "text/plain": [
       "147"
      ]
     },
     "execution_count": 63,
     "metadata": {},
     "output_type": "execute_result"
    }
   ],
   "source": [
    "# number of stations\n",
    "len(station_daily_avg)"
   ]
  },
  {
   "cell_type": "code",
   "execution_count": 91,
   "metadata": {
    "ExecuteTime": {
     "end_time": "2017-05-11T09:39:05.651168Z",
     "start_time": "2017-05-11T09:39:05.477356"
    },
    "collapsed": false,
    "hidden": true
   },
   "outputs": [
    {
     "data": {
      "text/plain": [
       "stationname\n",
       "Clark/Lake    13663.540513\n",
       "dtype: float64"
      ]
     },
     "execution_count": 91,
     "metadata": {},
     "output_type": "execute_result"
    }
   ],
   "source": [
    "# top station with highest average ridership per day\n",
    "top_station = station_daily_avg.nlargest(n=1, keep='first')\n",
    "top_station"
   ]
  },
  {
   "cell_type": "code",
   "execution_count": 67,
   "metadata": {
    "ExecuteTime": {
     "end_time": "2017-05-10T16:43:16.648770Z",
     "start_time": "2017-05-10T16:43:16.622913"
    },
    "collapsed": false,
    "hidden": true
   },
   "outputs": [],
   "source": [
    "# top five stations with highest average ridership per day\n",
    "top_five = station_daily_avg.nlargest(n=5, keep='first')"
   ]
  },
  {
   "cell_type": "code",
   "execution_count": 71,
   "metadata": {
    "ExecuteTime": {
     "end_time": "2017-05-10T16:45:59.244759Z",
     "start_time": "2017-05-10T16:45:59.234101"
    },
    "collapsed": false,
    "hidden": true
   },
   "outputs": [
    {
     "data": {
      "text/plain": [
       "stationname\n",
       "Clark/Lake            13663.540513\n",
       "Lake/State            13304.173404\n",
       "Chicago/State         12944.953208\n",
       "95th/Dan Ryan         10868.678022\n",
       "Belmont-North Main    10440.290384\n",
       "dtype: float64"
      ]
     },
     "execution_count": 71,
     "metadata": {},
     "output_type": "execute_result"
    }
   ],
   "source": [
    "top_five"
   ]
  },
  {
   "cell_type": "code",
   "execution_count": 89,
   "metadata": {
    "ExecuteTime": {
     "end_time": "2017-05-10T16:55:55.749788Z",
     "start_time": "2017-05-10T16:55:55.487737"
    },
    "collapsed": false,
    "hidden": true
   },
   "outputs": [
    {
     "data": {
      "image/png": "[encoded data removed]",
      "text/plain": [
       "<matplotlib.figure.Figure at 0x11df1a7b8>"
      ]
     },
     "metadata": {},
     "output_type": "display_data"
    }
   ],
   "source": [
    "ax = top_five.plot(kind=\"bar\", title = \"Top Five Stations with Highest Average Daily Ridership\")\n",
    "ax.set_ylabel(\"Rides\")\n",
    "ax.set_xlabel(\"Station Name\");"
   ]
  },
  {
   "cell_type": "markdown",
   "metadata": {
    "heading_collapsed": true
   },
   "source": [
    "### Question 2"
   ]
  },
  {
   "cell_type": "markdown",
   "metadata": {
    "hidden": true
   },
   "source": [
    "**Which stop has the greatest standard deviation in weekday (exclude holidays) ridership per day, and what is it?**\n",
    "\n",
    "In this dataset, weekdays are indicated with a \"W\" in the daytype column and holidays are denoted with a \"U\". I first isolate the weekdays to find the standard deviation in weekday ridership per day. Then I order the dataframe of stations and their standard deviations from highest to lowest. We can see that the Lake/State station has the highest standard deviation per weekday of 4292.931370. \n",
    "\n",
    "The standard deviation tells us the spread around the mean. So in the case of the Lake/State station, a high standard deviation tells us that there is a lot of variation in the number of people entering the station. This could be for a number of reasons. For example, the dataset looks at a long time span. It's possible the station grew in popularity over the past 16 years, increasing the variation around the mean. "
   ]
  },
  {
   "cell_type": "code",
   "execution_count": 101,
   "metadata": {
    "ExecuteTime": {
     "end_time": "2017-05-11T09:56:56.591760Z",
     "start_time": "2017-05-11T09:56:56.463414"
    },
    "collapsed": false,
    "hidden": true
   },
   "outputs": [],
   "source": [
    "# create dataframe with just weekday information\n",
    "\n",
    "df_weekday = df.loc[df['daytype'] == \"W\"]"
   ]
  },
  {
   "cell_type": "code",
   "execution_count": 102,
   "metadata": {
    "ExecuteTime": {
     "end_time": "2017-05-11T09:56:56.905873Z",
     "start_time": "2017-05-11T09:56:56.855319"
    },
    "collapsed": false,
    "hidden": true
   },
   "outputs": [
    {
     "data": {
      "text/plain": [
       "W    577803\n",
       "Name: daytype, dtype: int64"
      ]
     },
     "execution_count": 102,
     "metadata": {},
     "output_type": "execute_result"
    }
   ],
   "source": [
    "# sanity check that we only have weekday values now\n",
    "\n",
    "df_weekday[\"daytype\"].value_counts()"
   ]
  },
  {
   "cell_type": "code",
   "execution_count": 108,
   "metadata": {
    "ExecuteTime": {
     "end_time": "2017-05-11T10:40:44.948101Z",
     "start_time": "2017-05-11T10:40:44.787051"
    },
    "collapsed": false,
    "hidden": true
   },
   "outputs": [],
   "source": [
    "# find standard deviation of rides per station on a weekday\n",
    "\n",
    "df_weekday_std = df_weekday.groupby('stationname').agg(np.std)"
   ]
  },
  {
   "cell_type": "code",
   "execution_count": 111,
   "metadata": {
    "ExecuteTime": {
     "end_time": "2017-05-11T10:41:25.430805Z",
     "start_time": "2017-05-11T10:41:25.391882"
    },
    "collapsed": false,
    "hidden": true
   },
   "outputs": [],
   "source": [
    "# drop the station_id column\n",
    "\n",
    "df_weekday_std.drop(\"station_id\", axis=1, inplace= True)"
   ]
  },
  {
   "cell_type": "code",
   "execution_count": 112,
   "metadata": {
    "ExecuteTime": {
     "end_time": "2017-05-11T10:41:35.681161Z",
     "start_time": "2017-05-11T10:41:35.670298"
    },
    "collapsed": false,
    "hidden": true
   },
   "outputs": [
    {
     "data": {
      "text/html": [
       "<div>\n",
       "<table border=\"1\" class=\"dataframe\">\n",
       "  <thead>\n",
       "    <tr style=\"text-align: right;\">\n",
       "      <th></th>\n",
       "      <th>rides</th>\n",
       "    </tr>\n",
       "    <tr>\n",
       "      <th>stationname</th>\n",
       "      <th></th>\n",
       "    </tr>\n",
       "  </thead>\n",
       "  <tbody>\n",
       "    <tr>\n",
       "      <th>18th</th>\n",
       "      <td>415.126490</td>\n",
       "    </tr>\n",
       "    <tr>\n",
       "      <th>35-Bronzeville-IIT</th>\n",
       "      <td>751.150281</td>\n",
       "    </tr>\n",
       "    <tr>\n",
       "      <th>35th/Archer</th>\n",
       "      <td>442.413740</td>\n",
       "    </tr>\n",
       "    <tr>\n",
       "      <th>43rd</th>\n",
       "      <td>187.541908</td>\n",
       "    </tr>\n",
       "    <tr>\n",
       "      <th>47th-Dan Ryan</th>\n",
       "      <td>592.460708</td>\n",
       "    </tr>\n",
       "  </tbody>\n",
       "</table>\n",
       "</div>"
      ],
      "text/plain": [
       "                         rides\n",
       "stationname                   \n",
       "18th                415.126490\n",
       "35-Bronzeville-IIT  751.150281\n",
       "35th/Archer         442.413740\n",
       "43rd                187.541908\n",
       "47th-Dan Ryan       592.460708"
      ]
     },
     "execution_count": 112,
     "metadata": {},
     "output_type": "execute_result"
    }
   ],
   "source": [
    "# snapshot of new dataframe\n",
    "\n",
    "df_weekday_std.head()"
   ]
  },
  {
   "cell_type": "code",
   "execution_count": 122,
   "metadata": {
    "ExecuteTime": {
     "end_time": "2017-05-11T10:52:51.967549Z",
     "start_time": "2017-05-11T10:52:51.962014"
    },
    "collapsed": false,
    "hidden": true
   },
   "outputs": [],
   "source": [
    "# sort stations by highest standard deviation in ridership per weekday\n",
    "\n",
    "df_weekday_std.sort_values(by = \"rides\", ascending= False, inplace=True)"
   ]
  },
  {
   "cell_type": "code",
   "execution_count": 125,
   "metadata": {
    "ExecuteTime": {
     "end_time": "2017-05-11T11:21:20.166934Z",
     "start_time": "2017-05-11T11:21:20.152452"
    },
    "collapsed": false,
    "hidden": true
   },
   "outputs": [
    {
     "data": {
      "text/html": [
       "<div>\n",
       "<table border=\"1\" class=\"dataframe\">\n",
       "  <thead>\n",
       "    <tr style=\"text-align: right;\">\n",
       "      <th></th>\n",
       "      <th>rides</th>\n",
       "    </tr>\n",
       "    <tr>\n",
       "      <th>stationname</th>\n",
       "      <th></th>\n",
       "    </tr>\n",
       "  </thead>\n",
       "  <tbody>\n",
       "    <tr>\n",
       "      <th>Lake/State</th>\n",
       "      <td>4292.931370</td>\n",
       "    </tr>\n",
       "    <tr>\n",
       "      <th>Washington/State</th>\n",
       "      <td>3890.640503</td>\n",
       "    </tr>\n",
       "    <tr>\n",
       "      <th>Addison-North Main</th>\n",
       "      <td>3289.670003</td>\n",
       "    </tr>\n",
       "    <tr>\n",
       "      <th>Clark/Lake</th>\n",
       "      <td>2742.644346</td>\n",
       "    </tr>\n",
       "    <tr>\n",
       "      <th>Fullerton</th>\n",
       "      <td>2602.717176</td>\n",
       "    </tr>\n",
       "  </tbody>\n",
       "</table>\n",
       "</div>"
      ],
      "text/plain": [
       "                          rides\n",
       "stationname                    \n",
       "Lake/State          4292.931370\n",
       "Washington/State    3890.640503\n",
       "Addison-North Main  3289.670003\n",
       "Clark/Lake          2742.644346\n",
       "Fullerton           2602.717176"
      ]
     },
     "execution_count": 125,
     "metadata": {},
     "output_type": "execute_result"
    }
   ],
   "source": [
    "# top five stations with highest standard deviation\n",
    "\n",
    "df_weekday_std.head(5)"
   ]
  },
  {
   "cell_type": "markdown",
   "metadata": {},
   "source": [
    "## Challenge Question"
   ]
  },
  {
   "cell_type": "markdown",
   "metadata": {},
   "source": [
    "Imagine you’re a business owner in Chicago looking to open a new location. Any kind of business will do. In the form of writing, potentially supplemented by sketches (computer-drawn or hand-drawn) and links, we want to see your response to these questions:\n",
    "- What questions could you potentially explore/answer with this data?\n",
    "- Ideally, what other data would you gather or combine to learn even more?\n",
    "- How would you want to see data presented, to make it actionable by you or others?"
   ]
  },
  {
   "cell_type": "markdown",
   "metadata": {},
   "source": [
    "**Approach**\n",
    "\n",
    "Before we can choose a location for our client's new business, we should examine a few qualities outside of rides per station. Ideally I'd like to analyze demographic, income, property value and crime data across the city to help identify potential areas for the business that align with our client's consumer base. However, this is outside the scope of the project. Given the time constraints of this project, I'll pull in a dataset with farmer's market information by zip code. Given our client's business, this is most relevant. With this dataset, we can identify train stops near farmer's markets. Additionally, because our client is mainly focused on weekends and springtime, I'll create a subset of the data reflecting these times. \n",
    "\n",
    "Once the data is appropriately filtered, I'll choose the stop five stations with the most ridership to drive foot traffic. These stations are then visualized on a map for our client. \n",
    "\n",
    "[Source](https://catalog.data.gov/dataset/farmers-markets-2015) of farmer's market dataset\n"
   ]
  },
  {
   "cell_type": "markdown",
   "metadata": {},
   "source": [
    "**Notes to self**\n",
    "\n",
    "Pull in long/lat of each station. From here we can get the zip codes and connect with census data to reach target demographic. \n",
    "potentially search for more specific turnstile data that shows hours. we want to target shoppers after business hours and on weekends/holidays.\n",
    "Look at most recent years.\n",
    "Want to open business during peak ridership season\n",
    "prediction for this?\n",
    "Really only need past 2/3 years\n",
    "Poperty values?\n",
    "How much space is needed? May not be feasable start in the neighborhood with the highest income\n",
    "Map top five most viable stations on Carto?\n",
    "\n",
    "\n",
    "MAP_ID = station_id"
   ]
  },
  {
   "cell_type": "code",
   "execution_count": 228,
   "metadata": {
    "ExecuteTime": {
     "end_time": "2017-05-11T22:41:36.673655Z",
     "start_time": "2017-05-11T22:41:36.631605"
    },
    "collapsed": false,
    "scrolled": false
   },
   "outputs": [
    {
     "data": {
      "text/html": [
       "<div>\n",
       "<table border=\"1\" class=\"dataframe\">\n",
       "  <thead>\n",
       "    <tr style=\"text-align: right;\">\n",
       "      <th></th>\n",
       "      <th>station_id</th>\n",
       "      <th>stationname</th>\n",
       "      <th>date</th>\n",
       "      <th>daytype</th>\n",
       "      <th>rides</th>\n",
       "    </tr>\n",
       "  </thead>\n",
       "  <tbody>\n",
       "    <tr>\n",
       "      <th>0</th>\n",
       "      <td>40010</td>\n",
       "      <td>Austin-Forest Park</td>\n",
       "      <td>2001-01-01</td>\n",
       "      <td>U</td>\n",
       "      <td>290</td>\n",
       "    </tr>\n",
       "    <tr>\n",
       "      <th>1</th>\n",
       "      <td>40020</td>\n",
       "      <td>Harlem-Lake</td>\n",
       "      <td>2001-01-01</td>\n",
       "      <td>U</td>\n",
       "      <td>633</td>\n",
       "    </tr>\n",
       "    <tr>\n",
       "      <th>2</th>\n",
       "      <td>40030</td>\n",
       "      <td>Pulaski-Lake</td>\n",
       "      <td>2001-01-01</td>\n",
       "      <td>U</td>\n",
       "      <td>483</td>\n",
       "    </tr>\n",
       "    <tr>\n",
       "      <th>3</th>\n",
       "      <td>40040</td>\n",
       "      <td>Quincy/Wells</td>\n",
       "      <td>2001-01-01</td>\n",
       "      <td>U</td>\n",
       "      <td>374</td>\n",
       "    </tr>\n",
       "    <tr>\n",
       "      <th>4</th>\n",
       "      <td>40050</td>\n",
       "      <td>Davis</td>\n",
       "      <td>2001-01-01</td>\n",
       "      <td>U</td>\n",
       "      <td>804</td>\n",
       "    </tr>\n",
       "  </tbody>\n",
       "</table>\n",
       "</div>"
      ],
      "text/plain": [
       "   station_id         stationname       date daytype  rides\n",
       "0       40010  Austin-Forest Park 2001-01-01       U    290\n",
       "1       40020         Harlem-Lake 2001-01-01       U    633\n",
       "2       40030        Pulaski-Lake 2001-01-01       U    483\n",
       "3       40040        Quincy/Wells 2001-01-01       U    374\n",
       "4       40050               Davis 2001-01-01       U    804"
      ]
     },
     "execution_count": 228,
     "metadata": {},
     "output_type": "execute_result"
    }
   ],
   "source": [
    "df.head()"
   ]
  },
  {
   "cell_type": "code",
   "execution_count": 229,
   "metadata": {
    "ExecuteTime": {
     "end_time": "2017-05-11T22:41:37.209206Z",
     "start_time": "2017-05-11T22:41:37.127032"
    },
    "collapsed": true
   },
   "outputs": [],
   "source": [
    "# bring in a second dataset that includes station IDs and their lattitude and longitutde coordinates\n",
    "\n",
    "df_stations = create_df(\"CTA_-_System_Information_-_List_of__L__Stops.csv\")"
   ]
  },
  {
   "cell_type": "code",
   "execution_count": 230,
   "metadata": {
    "ExecuteTime": {
     "end_time": "2017-05-11T22:41:37.712702Z",
     "start_time": "2017-05-11T22:41:37.674181"
    },
    "collapsed": false
   },
   "outputs": [
    {
     "data": {
      "text/html": [
       "<div>\n",
       "<table border=\"1\" class=\"dataframe\">\n",
       "  <thead>\n",
       "    <tr style=\"text-align: right;\">\n",
       "      <th></th>\n",
       "      <th>STOP_ID</th>\n",
       "      <th>DIRECTION_ID</th>\n",
       "      <th>STOP_NAME</th>\n",
       "      <th>STATION_NAME</th>\n",
       "      <th>STATION_DESCRIPTIVE_NAME</th>\n",
       "      <th>MAP_ID</th>\n",
       "      <th>ADA</th>\n",
       "      <th>RED</th>\n",
       "      <th>BLUE</th>\n",
       "      <th>G</th>\n",
       "      <th>BRN</th>\n",
       "      <th>P</th>\n",
       "      <th>Pexp</th>\n",
       "      <th>Y</th>\n",
       "      <th>Pnk</th>\n",
       "      <th>O</th>\n",
       "      <th>Location</th>\n",
       "    </tr>\n",
       "  </thead>\n",
       "  <tbody>\n",
       "    <tr>\n",
       "      <th>0</th>\n",
       "      <td>30162</td>\n",
       "      <td>W</td>\n",
       "      <td>18th (54th/Cermak-bound)</td>\n",
       "      <td>18th</td>\n",
       "      <td>18th (Pink Line)</td>\n",
       "      <td>40830</td>\n",
       "      <td>True</td>\n",
       "      <td>False</td>\n",
       "      <td>False</td>\n",
       "      <td>False</td>\n",
       "      <td>False</td>\n",
       "      <td>False</td>\n",
       "      <td>False</td>\n",
       "      <td>False</td>\n",
       "      <td>True</td>\n",
       "      <td>False</td>\n",
       "      <td>(41.857908, -87.669147)</td>\n",
       "    </tr>\n",
       "    <tr>\n",
       "      <th>1</th>\n",
       "      <td>30161</td>\n",
       "      <td>E</td>\n",
       "      <td>18th (Loop-bound)</td>\n",
       "      <td>18th</td>\n",
       "      <td>18th (Pink Line)</td>\n",
       "      <td>40830</td>\n",
       "      <td>True</td>\n",
       "      <td>False</td>\n",
       "      <td>False</td>\n",
       "      <td>False</td>\n",
       "      <td>False</td>\n",
       "      <td>False</td>\n",
       "      <td>False</td>\n",
       "      <td>False</td>\n",
       "      <td>True</td>\n",
       "      <td>False</td>\n",
       "      <td>(41.857908, -87.669147)</td>\n",
       "    </tr>\n",
       "    <tr>\n",
       "      <th>2</th>\n",
       "      <td>30022</td>\n",
       "      <td>N</td>\n",
       "      <td>35th/Archer (Loop-bound)</td>\n",
       "      <td>35th/Archer</td>\n",
       "      <td>35th/Archer (Orange Line)</td>\n",
       "      <td>40120</td>\n",
       "      <td>True</td>\n",
       "      <td>False</td>\n",
       "      <td>False</td>\n",
       "      <td>False</td>\n",
       "      <td>False</td>\n",
       "      <td>False</td>\n",
       "      <td>False</td>\n",
       "      <td>False</td>\n",
       "      <td>False</td>\n",
       "      <td>True</td>\n",
       "      <td>(41.829353, -87.680622)</td>\n",
       "    </tr>\n",
       "    <tr>\n",
       "      <th>3</th>\n",
       "      <td>30023</td>\n",
       "      <td>S</td>\n",
       "      <td>35th/Archer (Midway-bound)</td>\n",
       "      <td>35th/Archer</td>\n",
       "      <td>35th/Archer (Orange Line)</td>\n",
       "      <td>40120</td>\n",
       "      <td>True</td>\n",
       "      <td>False</td>\n",
       "      <td>False</td>\n",
       "      <td>False</td>\n",
       "      <td>False</td>\n",
       "      <td>False</td>\n",
       "      <td>False</td>\n",
       "      <td>False</td>\n",
       "      <td>False</td>\n",
       "      <td>True</td>\n",
       "      <td>(41.829353, -87.680622)</td>\n",
       "    </tr>\n",
       "    <tr>\n",
       "      <th>4</th>\n",
       "      <td>30214</td>\n",
       "      <td>S</td>\n",
       "      <td>35-Bronzeville-IIT (63rd-bound)</td>\n",
       "      <td>35th-Bronzeville-IIT</td>\n",
       "      <td>35th-Bronzeville-IIT (Green Line)</td>\n",
       "      <td>41120</td>\n",
       "      <td>True</td>\n",
       "      <td>False</td>\n",
       "      <td>False</td>\n",
       "      <td>True</td>\n",
       "      <td>False</td>\n",
       "      <td>False</td>\n",
       "      <td>False</td>\n",
       "      <td>False</td>\n",
       "      <td>False</td>\n",
       "      <td>False</td>\n",
       "      <td>(41.831677, -87.625826)</td>\n",
       "    </tr>\n",
       "  </tbody>\n",
       "</table>\n",
       "</div>"
      ],
      "text/plain": [
       "   STOP_ID DIRECTION_ID                        STOP_NAME  \\\n",
       "0    30162            W         18th (54th/Cermak-bound)   \n",
       "1    30161            E                18th (Loop-bound)   \n",
       "2    30022            N         35th/Archer (Loop-bound)   \n",
       "3    30023            S       35th/Archer (Midway-bound)   \n",
       "4    30214            S  35-Bronzeville-IIT (63rd-bound)   \n",
       "\n",
       "           STATION_NAME           STATION_DESCRIPTIVE_NAME  MAP_ID   ADA  \\\n",
       "0                  18th                   18th (Pink Line)   40830  True   \n",
       "1                  18th                   18th (Pink Line)   40830  True   \n",
       "2           35th/Archer          35th/Archer (Orange Line)   40120  True   \n",
       "3           35th/Archer          35th/Archer (Orange Line)   40120  True   \n",
       "4  35th-Bronzeville-IIT  35th-Bronzeville-IIT (Green Line)   41120  True   \n",
       "\n",
       "     RED   BLUE      G    BRN      P   Pexp      Y    Pnk      O  \\\n",
       "0  False  False  False  False  False  False  False   True  False   \n",
       "1  False  False  False  False  False  False  False   True  False   \n",
       "2  False  False  False  False  False  False  False  False   True   \n",
       "3  False  False  False  False  False  False  False  False   True   \n",
       "4  False  False   True  False  False  False  False  False  False   \n",
       "\n",
       "                  Location  \n",
       "0  (41.857908, -87.669147)  \n",
       "1  (41.857908, -87.669147)  \n",
       "2  (41.829353, -87.680622)  \n",
       "3  (41.829353, -87.680622)  \n",
       "4  (41.831677, -87.625826)  "
      ]
     },
     "execution_count": 230,
     "metadata": {},
     "output_type": "execute_result"
    }
   ],
   "source": [
    "# snapshot of dataset with lat/long locations\n",
    "\n",
    "df_stations.head()"
   ]
  },
  {
   "cell_type": "code",
   "execution_count": 231,
   "metadata": {
    "ExecuteTime": {
     "end_time": "2017-05-11T22:41:38.222997Z",
     "start_time": "2017-05-11T22:41:38.214899"
    },
    "collapsed": false
   },
   "outputs": [],
   "source": [
    "# the dataframe contains multiple values for one MAP_ID. \n",
    "# The duplicates must be deleted to prevent duplicating ride values when dataframes are merged\n",
    "\n",
    "df_stations = df_stations.drop_duplicates(subset=\"MAP_ID\")"
   ]
  },
  {
   "cell_type": "code",
   "execution_count": 278,
   "metadata": {
    "ExecuteTime": {
     "end_time": "2017-05-11T23:28:22.716724Z",
     "start_time": "2017-05-11T23:28:22.709854"
    },
    "collapsed": true
   },
   "outputs": [],
   "source": [
    "# remove parentheses from Location values to prepare them for api\n",
    "\n",
    "df_stations[\"Location\"] = df_stations['Location'].map(lambda x: str(x)[1:-1])"
   ]
  },
  {
   "cell_type": "code",
   "execution_count": 281,
   "metadata": {
    "ExecuteTime": {
     "end_time": "2017-05-11T23:29:17.620393Z",
     "start_time": "2017-05-11T23:29:17.615620"
    },
    "collapsed": false
   },
   "outputs": [],
   "source": [
    "# convert Location column to string\n",
    "\n",
    "df_stations['Location'] = df_stations['Location'].astype(str)"
   ]
  },
  {
   "cell_type": "code",
   "execution_count": 362,
   "metadata": {
    "ExecuteTime": {
     "end_time": "2017-05-12T01:36:36.441960Z",
     "start_time": "2017-05-12T01:36:36.432853"
    },
    "collapsed": true
   },
   "outputs": [],
   "source": [
    "def zip_code_locator(df):\n",
    "    \"\"\"takes input of dataframe and uses latitude longitude column in dataframe to find zipcode\n",
    "    returns dataframe with zipcode column\"\"\"\n",
    "    zip_codes = []\n",
    "    for index, row in df.iterrows():\n",
    "        #print(row.latitude, row.longitude)\n",
    "        geolocator = Nominatim()\n",
    "        #print(row.Location)\n",
    "        location = geolocator.reverse(row.Location, timeout=10)\n",
    "        results = location.raw\n",
    "        results[\"address\"][\"postcode\"]\n",
    "        zip_codes.append(results[\"address\"][\"postcode\"])\n",
    "    df[\"zip_codes\"] = zip_codes\n",
    "    return df\n",
    "    "
   ]
  },
  {
   "cell_type": "code",
   "execution_count": 288,
   "metadata": {
    "ExecuteTime": {
     "end_time": "2017-05-11T23:45:23.720687Z",
     "start_time": "2017-05-11T23:44:19.171027"
    },
    "collapsed": false
   },
   "outputs": [],
   "source": [
    "# create new dataframe with zip codes\n",
    "\n",
    "df_zip_codes = zip_code_locator(df_stations)"
   ]
  },
  {
   "cell_type": "code",
   "execution_count": 290,
   "metadata": {
    "ExecuteTime": {
     "end_time": "2017-05-11T23:45:39.021744Z",
     "start_time": "2017-05-11T23:45:38.981653"
    },
    "collapsed": false
   },
   "outputs": [
    {
     "data": {
      "text/html": [
       "<div>\n",
       "<table border=\"1\" class=\"dataframe\">\n",
       "  <thead>\n",
       "    <tr style=\"text-align: right;\">\n",
       "      <th></th>\n",
       "      <th>STOP_ID</th>\n",
       "      <th>DIRECTION_ID</th>\n",
       "      <th>STOP_NAME</th>\n",
       "      <th>STATION_NAME</th>\n",
       "      <th>STATION_DESCRIPTIVE_NAME</th>\n",
       "      <th>station_id</th>\n",
       "      <th>ADA</th>\n",
       "      <th>RED</th>\n",
       "      <th>BLUE</th>\n",
       "      <th>G</th>\n",
       "      <th>BRN</th>\n",
       "      <th>P</th>\n",
       "      <th>Pexp</th>\n",
       "      <th>Y</th>\n",
       "      <th>Pnk</th>\n",
       "      <th>O</th>\n",
       "      <th>Location</th>\n",
       "      <th>zip_codes</th>\n",
       "    </tr>\n",
       "  </thead>\n",
       "  <tbody>\n",
       "    <tr>\n",
       "      <th>0</th>\n",
       "      <td>30162</td>\n",
       "      <td>W</td>\n",
       "      <td>18th (54th/Cermak-bound)</td>\n",
       "      <td>18th</td>\n",
       "      <td>18th (Pink Line)</td>\n",
       "      <td>40830</td>\n",
       "      <td>True</td>\n",
       "      <td>False</td>\n",
       "      <td>False</td>\n",
       "      <td>False</td>\n",
       "      <td>False</td>\n",
       "      <td>False</td>\n",
       "      <td>False</td>\n",
       "      <td>False</td>\n",
       "      <td>True</td>\n",
       "      <td>False</td>\n",
       "      <td>41.857908, -87.669147</td>\n",
       "      <td>60608</td>\n",
       "    </tr>\n",
       "    <tr>\n",
       "      <th>2</th>\n",
       "      <td>30022</td>\n",
       "      <td>N</td>\n",
       "      <td>35th/Archer (Loop-bound)</td>\n",
       "      <td>35th/Archer</td>\n",
       "      <td>35th/Archer (Orange Line)</td>\n",
       "      <td>40120</td>\n",
       "      <td>True</td>\n",
       "      <td>False</td>\n",
       "      <td>False</td>\n",
       "      <td>False</td>\n",
       "      <td>False</td>\n",
       "      <td>False</td>\n",
       "      <td>False</td>\n",
       "      <td>False</td>\n",
       "      <td>False</td>\n",
       "      <td>True</td>\n",
       "      <td>41.829353, -87.680622</td>\n",
       "      <td>60632</td>\n",
       "    </tr>\n",
       "    <tr>\n",
       "      <th>4</th>\n",
       "      <td>30214</td>\n",
       "      <td>S</td>\n",
       "      <td>35-Bronzeville-IIT (63rd-bound)</td>\n",
       "      <td>35th-Bronzeville-IIT</td>\n",
       "      <td>35th-Bronzeville-IIT (Green Line)</td>\n",
       "      <td>41120</td>\n",
       "      <td>True</td>\n",
       "      <td>False</td>\n",
       "      <td>False</td>\n",
       "      <td>True</td>\n",
       "      <td>False</td>\n",
       "      <td>False</td>\n",
       "      <td>False</td>\n",
       "      <td>False</td>\n",
       "      <td>False</td>\n",
       "      <td>False</td>\n",
       "      <td>41.831677, -87.625826</td>\n",
       "      <td>60609</td>\n",
       "    </tr>\n",
       "    <tr>\n",
       "      <th>6</th>\n",
       "      <td>30246</td>\n",
       "      <td>S</td>\n",
       "      <td>43rd (63rd-bound)</td>\n",
       "      <td>43rd</td>\n",
       "      <td>43rd (Green Line)</td>\n",
       "      <td>41270</td>\n",
       "      <td>True</td>\n",
       "      <td>False</td>\n",
       "      <td>False</td>\n",
       "      <td>True</td>\n",
       "      <td>False</td>\n",
       "      <td>False</td>\n",
       "      <td>False</td>\n",
       "      <td>False</td>\n",
       "      <td>False</td>\n",
       "      <td>False</td>\n",
       "      <td>41.816462, -87.619021</td>\n",
       "      <td>60653</td>\n",
       "    </tr>\n",
       "    <tr>\n",
       "      <th>8</th>\n",
       "      <td>30025</td>\n",
       "      <td>S</td>\n",
       "      <td>51st (63rd-bound)</td>\n",
       "      <td>51st</td>\n",
       "      <td>51st (Green Line)</td>\n",
       "      <td>40130</td>\n",
       "      <td>True</td>\n",
       "      <td>False</td>\n",
       "      <td>False</td>\n",
       "      <td>True</td>\n",
       "      <td>False</td>\n",
       "      <td>False</td>\n",
       "      <td>False</td>\n",
       "      <td>False</td>\n",
       "      <td>False</td>\n",
       "      <td>False</td>\n",
       "      <td>41.80209, -87.618487</td>\n",
       "      <td>60615</td>\n",
       "    </tr>\n",
       "  </tbody>\n",
       "</table>\n",
       "</div>"
      ],
      "text/plain": [
       "   STOP_ID DIRECTION_ID                        STOP_NAME  \\\n",
       "0    30162            W         18th (54th/Cermak-bound)   \n",
       "2    30022            N         35th/Archer (Loop-bound)   \n",
       "4    30214            S  35-Bronzeville-IIT (63rd-bound)   \n",
       "6    30246            S                43rd (63rd-bound)   \n",
       "8    30025            S                51st (63rd-bound)   \n",
       "\n",
       "           STATION_NAME           STATION_DESCRIPTIVE_NAME  station_id   ADA  \\\n",
       "0                  18th                   18th (Pink Line)       40830  True   \n",
       "2           35th/Archer          35th/Archer (Orange Line)       40120  True   \n",
       "4  35th-Bronzeville-IIT  35th-Bronzeville-IIT (Green Line)       41120  True   \n",
       "6                  43rd                  43rd (Green Line)       41270  True   \n",
       "8                  51st                  51st (Green Line)       40130  True   \n",
       "\n",
       "     RED   BLUE      G    BRN      P   Pexp      Y    Pnk      O  \\\n",
       "0  False  False  False  False  False  False  False   True  False   \n",
       "2  False  False  False  False  False  False  False  False   True   \n",
       "4  False  False   True  False  False  False  False  False  False   \n",
       "6  False  False   True  False  False  False  False  False  False   \n",
       "8  False  False   True  False  False  False  False  False  False   \n",
       "\n",
       "                Location zip_codes  \n",
       "0  41.857908, -87.669147     60608  \n",
       "2  41.829353, -87.680622     60632  \n",
       "4  41.831677, -87.625826     60609  \n",
       "6  41.816462, -87.619021     60653  \n",
       "8   41.80209, -87.618487     60615  "
      ]
     },
     "execution_count": 290,
     "metadata": {},
     "output_type": "execute_result"
    }
   ],
   "source": [
    "df_zip_codes.head()"
   ]
  },
  {
   "cell_type": "markdown",
   "metadata": {},
   "source": [
    "Note that the *MAP_ID* column in *df_stations* is the same as the *station_id* column in *df*. To merge the two datasets, we can rename *MAP_ID* to *station_id* and merge on this column. "
   ]
  },
  {
   "cell_type": "code",
   "execution_count": 291,
   "metadata": {
    "ExecuteTime": {
     "end_time": "2017-05-11T23:46:12.969077Z",
     "start_time": "2017-05-11T23:46:12.963266"
    },
    "collapsed": true
   },
   "outputs": [],
   "source": [
    "# rename MAP_ID in the df_zip_codes dataframe to station_id\n",
    "\n",
    "df_zip_codes.rename(columns={'MAP_ID':'station_id'}, inplace=True)"
   ]
  },
  {
   "cell_type": "code",
   "execution_count": 292,
   "metadata": {
    "ExecuteTime": {
     "end_time": "2017-05-11T23:46:32.970848Z",
     "start_time": "2017-05-11T23:46:32.027744"
    },
    "collapsed": false
   },
   "outputs": [],
   "source": [
    "# merge the two dataframe on the station_id column. New master dataframe is df2\n",
    "\n",
    "df2 = pd.merge(df, df_zip_codes, on='station_id')"
   ]
  },
  {
   "cell_type": "code",
   "execution_count": 293,
   "metadata": {
    "ExecuteTime": {
     "end_time": "2017-05-11T23:46:35.403221Z",
     "start_time": "2017-05-11T23:46:34.428630"
    },
    "collapsed": false
   },
   "outputs": [],
   "source": [
    "# drop a few unnecessary columns from df2\n",
    "\n",
    "df2.drop([\"RED\",\"BLUE\",\"G\",\"BRN\",\"P\",\"Pexp\",\"Y\",\"Pnk\",\"O\",\"ADA\"], axis=1, inplace=True)"
   ]
  },
  {
   "cell_type": "markdown",
   "metadata": {},
   "source": [
    "Now that we have the zip codes for each station, we can use this information to connect train stations with census data. Below I upload a dataset that contains information on farmer's markets locations around the city. "
   ]
  },
  {
   "cell_type": "code",
   "execution_count": 300,
   "metadata": {
    "ExecuteTime": {
     "end_time": "2017-05-11T23:57:19.875629Z",
     "start_time": "2017-05-11T23:57:19.283526"
    },
    "collapsed": true
   },
   "outputs": [],
   "source": [
    "# open taxes csv into dataframe\n",
    "\n",
    "df_markets = create_df(\"Farmers_Markets_-_2015.csv\")"
   ]
  },
  {
   "cell_type": "code",
   "execution_count": 348,
   "metadata": {
    "ExecuteTime": {
     "end_time": "2017-05-12T01:26:57.524509Z",
     "start_time": "2017-05-12T01:26:57.352514"
    },
    "collapsed": false
   },
   "outputs": [
    {
     "data": {
      "text/html": [
       "<div>\n",
       "<table border=\"1\" class=\"dataframe\">\n",
       "  <thead>\n",
       "    <tr style=\"text-align: right;\">\n",
       "      <th></th>\n",
       "      <th>LOCATION</th>\n",
       "      <th>INTERSECTION</th>\n",
       "      <th>DAY</th>\n",
       "      <th>START TIME</th>\n",
       "      <th>END TIME</th>\n",
       "      <th>START DATE</th>\n",
       "      <th>END DATE</th>\n",
       "      <th>WEBSITE</th>\n",
       "      <th>TYPE</th>\n",
       "      <th>LINK ACCEPTED</th>\n",
       "      <th>LATITUDE</th>\n",
       "      <th>LONGITUDE</th>\n",
       "      <th>MAP</th>\n",
       "    </tr>\n",
       "  </thead>\n",
       "  <tbody>\n",
       "    <tr>\n",
       "      <th>0</th>\n",
       "      <td>Pilsen Night Market</td>\n",
       "      <td>18th St. &amp; Blue Island Ave.</td>\n",
       "      <td>Wednesday</td>\n",
       "      <td>4:00 PM</td>\n",
       "      <td>8:00 PM</td>\n",
       "      <td>07/08/2015</td>\n",
       "      <td>09/02/2015</td>\n",
       "      <td>http://chicagofarmersmarkets.us</td>\n",
       "      <td>Neighborhood</td>\n",
       "      <td>Y</td>\n",
       "      <td>41.857866</td>\n",
       "      <td>-87.661159</td>\n",
       "      <td>(41.8578656, -87.6611589)</td>\n",
       "    </tr>\n",
       "    <tr>\n",
       "      <th>1</th>\n",
       "      <td>Columbus Park</td>\n",
       "      <td>Harrison &amp; Central</td>\n",
       "      <td>Tuesday</td>\n",
       "      <td>2:00 PM</td>\n",
       "      <td>7:00 PM</td>\n",
       "      <td>06/30/2015</td>\n",
       "      <td>09/29/2015</td>\n",
       "      <td>http://chicagofarmersmarkets.us</td>\n",
       "      <td>Neighborhood</td>\n",
       "      <td>Y</td>\n",
       "      <td>41.872636</td>\n",
       "      <td>-87.765010</td>\n",
       "      <td>(41.87263635, -87.76501013)</td>\n",
       "    </tr>\n",
       "    <tr>\n",
       "      <th>2</th>\n",
       "      <td>Northcenter</td>\n",
       "      <td>Lincoln &amp; Belle Plaine</td>\n",
       "      <td>Saturday</td>\n",
       "      <td>7:00 AM</td>\n",
       "      <td>1:00 PM</td>\n",
       "      <td>06/13/2015</td>\n",
       "      <td>10/24/2015</td>\n",
       "      <td>http://chicagofarmersmarkets.us</td>\n",
       "      <td>Neighborhood</td>\n",
       "      <td>Y</td>\n",
       "      <td>41.955976</td>\n",
       "      <td>-87.679102</td>\n",
       "      <td>(41.95597563, -87.67910157)</td>\n",
       "    </tr>\n",
       "    <tr>\n",
       "      <th>3</th>\n",
       "      <td>Printers Row</td>\n",
       "      <td>Dearborn &amp; Polk</td>\n",
       "      <td>Saturday</td>\n",
       "      <td>7:00 AM</td>\n",
       "      <td>1:00 PM</td>\n",
       "      <td>06/20/2015</td>\n",
       "      <td>10/24/2015</td>\n",
       "      <td>http://chicagofarmersmarkets.us</td>\n",
       "      <td>Neighborhood</td>\n",
       "      <td>Y</td>\n",
       "      <td>41.872282</td>\n",
       "      <td>-87.629130</td>\n",
       "      <td>(41.87228245, -87.6291295)</td>\n",
       "    </tr>\n",
       "    <tr>\n",
       "      <th>4</th>\n",
       "      <td>Garfield Park (Monthly on 2nd Saturdays)</td>\n",
       "      <td>Lake &amp; Kedzie</td>\n",
       "      <td>Saturday</td>\n",
       "      <td>10:00 AM</td>\n",
       "      <td>1:00 PM</td>\n",
       "      <td>06/13/2015</td>\n",
       "      <td>10/10/2015</td>\n",
       "      <td>http://chicagofarmersmarkets.us</td>\n",
       "      <td>Neighborhood</td>\n",
       "      <td>Y</td>\n",
       "      <td>41.884870</td>\n",
       "      <td>-87.706234</td>\n",
       "      <td>(41.8848705, -87.7062339)</td>\n",
       "    </tr>\n",
       "  </tbody>\n",
       "</table>\n",
       "</div>"
      ],
      "text/plain": [
       "                                   LOCATION                 INTERSECTION  \\\n",
       "0                       Pilsen Night Market  18th St. & Blue Island Ave.   \n",
       "1                             Columbus Park           Harrison & Central   \n",
       "2                               Northcenter       Lincoln & Belle Plaine   \n",
       "3                              Printers Row              Dearborn & Polk   \n",
       "4  Garfield Park (Monthly on 2nd Saturdays)                Lake & Kedzie   \n",
       "\n",
       "         DAY START TIME END TIME  START DATE    END DATE  \\\n",
       "0  Wednesday    4:00 PM  8:00 PM  07/08/2015  09/02/2015   \n",
       "1    Tuesday    2:00 PM  7:00 PM  06/30/2015  09/29/2015   \n",
       "2   Saturday    7:00 AM  1:00 PM  06/13/2015  10/24/2015   \n",
       "3   Saturday    7:00 AM  1:00 PM  06/20/2015  10/24/2015   \n",
       "4   Saturday   10:00 AM  1:00 PM  06/13/2015  10/10/2015   \n",
       "\n",
       "                           WEBSITE          TYPE LINK ACCEPTED   LATITUDE  \\\n",
       "0  http://chicagofarmersmarkets.us  Neighborhood             Y  41.857866   \n",
       "1  http://chicagofarmersmarkets.us  Neighborhood             Y  41.872636   \n",
       "2  http://chicagofarmersmarkets.us  Neighborhood             Y  41.955976   \n",
       "3  http://chicagofarmersmarkets.us  Neighborhood             Y  41.872282   \n",
       "4  http://chicagofarmersmarkets.us  Neighborhood             Y  41.884870   \n",
       "\n",
       "   LONGITUDE                          MAP  \n",
       "0 -87.661159    (41.8578656, -87.6611589)  \n",
       "1 -87.765010  (41.87263635, -87.76501013)  \n",
       "2 -87.679102  (41.95597563, -87.67910157)  \n",
       "3 -87.629130   (41.87228245, -87.6291295)  \n",
       "4 -87.706234    (41.8848705, -87.7062339)  "
      ]
     },
     "execution_count": 348,
     "metadata": {},
     "output_type": "execute_result"
    }
   ],
   "source": [
    "df_markets.head()"
   ]
  },
  {
   "cell_type": "code",
   "execution_count": 349,
   "metadata": {
    "ExecuteTime": {
     "end_time": "2017-05-12T01:27:14.602644Z",
     "start_time": "2017-05-12T01:27:14.416205"
    },
    "collapsed": true
   },
   "outputs": [],
   "source": [
    "# remove parentheses from Location values to prepare them for api\n",
    "\n",
    "df_markets[\"MAP\"] = df_markets['MAP'].map(lambda x: str(x)[1:-1])"
   ]
  },
  {
   "cell_type": "code",
   "execution_count": 351,
   "metadata": {
    "ExecuteTime": {
     "end_time": "2017-05-12T01:27:38.994460Z",
     "start_time": "2017-05-12T01:27:38.799526"
    },
    "collapsed": false
   },
   "outputs": [],
   "source": [
    "# convert Location column to string\n",
    "\n",
    "df_markets['MAP'] = df_markets['MAP'].astype(str)"
   ]
  },
  {
   "cell_type": "code",
   "execution_count": 353,
   "metadata": {
    "ExecuteTime": {
     "end_time": "2017-05-12T01:30:20.910442Z",
     "start_time": "2017-05-12T01:30:20.790174"
    },
    "collapsed": true
   },
   "outputs": [],
   "source": [
    "# rename MAPS column to location so it works with zip_code_locator\n",
    "\n",
    "df_markets.rename(columns={'MAP':'Location'}, inplace=True)"
   ]
  },
  {
   "cell_type": "code",
   "execution_count": 361,
   "metadata": {
    "ExecuteTime": {
     "end_time": "2017-05-12T01:36:27.479761Z",
     "start_time": "2017-05-12T01:36:27.474862"
    },
    "collapsed": false,
    "scrolled": false
   },
   "outputs": [],
   "source": [
    "# drop row with bad values\n",
    "\n",
    "df_markets = df_markets.drop(df_markets.index[16])"
   ]
  },
  {
   "cell_type": "code",
   "execution_count": 363,
   "metadata": {
    "ExecuteTime": {
     "end_time": "2017-05-12T01:37:00.517382Z",
     "start_time": "2017-05-12T01:36:40.107433"
    },
    "collapsed": false
   },
   "outputs": [],
   "source": [
    "# add zip codes to farmer's market dataframe\n",
    "\n",
    "df_market_zip_codes = zip_code_locator(df_markets)"
   ]
  },
  {
   "cell_type": "code",
   "execution_count": 385,
   "metadata": {
    "ExecuteTime": {
     "end_time": "2017-05-12T07:57:32.944088Z",
     "start_time": "2017-05-12T07:57:32.757421"
    },
    "collapsed": false,
    "scrolled": true
   },
   "outputs": [
    {
     "data": {
      "text/html": [
       "<div>\n",
       "<table border=\"1\" class=\"dataframe\">\n",
       "  <thead>\n",
       "    <tr style=\"text-align: right;\">\n",
       "      <th></th>\n",
       "      <th>LOCATION</th>\n",
       "      <th>INTERSECTION</th>\n",
       "      <th>DAY</th>\n",
       "      <th>START TIME</th>\n",
       "      <th>END TIME</th>\n",
       "      <th>START DATE</th>\n",
       "      <th>END DATE</th>\n",
       "      <th>WEBSITE</th>\n",
       "      <th>TYPE</th>\n",
       "      <th>LINK ACCEPTED</th>\n",
       "      <th>LATITUDE</th>\n",
       "      <th>LONGITUDE</th>\n",
       "      <th>Location</th>\n",
       "      <th>zip_codes</th>\n",
       "    </tr>\n",
       "  </thead>\n",
       "  <tbody>\n",
       "    <tr>\n",
       "      <th>0</th>\n",
       "      <td>Pilsen Night Market</td>\n",
       "      <td>18th St. &amp; Blue Island Ave.</td>\n",
       "      <td>Wednesday</td>\n",
       "      <td>4:00 PM</td>\n",
       "      <td>8:00 PM</td>\n",
       "      <td>07/08/2015</td>\n",
       "      <td>09/02/2015</td>\n",
       "      <td>http://chicagofarmersmarkets.us</td>\n",
       "      <td>Neighborhood</td>\n",
       "      <td>Y</td>\n",
       "      <td>41.857866</td>\n",
       "      <td>-87.661159</td>\n",
       "      <td>41.8578656, -87.6611589</td>\n",
       "      <td>60608</td>\n",
       "    </tr>\n",
       "    <tr>\n",
       "      <th>1</th>\n",
       "      <td>Columbus Park</td>\n",
       "      <td>Harrison &amp; Central</td>\n",
       "      <td>Tuesday</td>\n",
       "      <td>2:00 PM</td>\n",
       "      <td>7:00 PM</td>\n",
       "      <td>06/30/2015</td>\n",
       "      <td>09/29/2015</td>\n",
       "      <td>http://chicagofarmersmarkets.us</td>\n",
       "      <td>Neighborhood</td>\n",
       "      <td>Y</td>\n",
       "      <td>41.872636</td>\n",
       "      <td>-87.765010</td>\n",
       "      <td>41.87263635, -87.76501013</td>\n",
       "      <td>60644</td>\n",
       "    </tr>\n",
       "    <tr>\n",
       "      <th>2</th>\n",
       "      <td>Northcenter</td>\n",
       "      <td>Lincoln &amp; Belle Plaine</td>\n",
       "      <td>Saturday</td>\n",
       "      <td>7:00 AM</td>\n",
       "      <td>1:00 PM</td>\n",
       "      <td>06/13/2015</td>\n",
       "      <td>10/24/2015</td>\n",
       "      <td>http://chicagofarmersmarkets.us</td>\n",
       "      <td>Neighborhood</td>\n",
       "      <td>Y</td>\n",
       "      <td>41.955976</td>\n",
       "      <td>-87.679102</td>\n",
       "      <td>41.95597563, -87.67910157</td>\n",
       "      <td>60618</td>\n",
       "    </tr>\n",
       "  </tbody>\n",
       "</table>\n",
       "</div>"
      ],
      "text/plain": [
       "              LOCATION                 INTERSECTION        DAY START TIME  \\\n",
       "0  Pilsen Night Market  18th St. & Blue Island Ave.  Wednesday    4:00 PM   \n",
       "1        Columbus Park           Harrison & Central    Tuesday    2:00 PM   \n",
       "2          Northcenter       Lincoln & Belle Plaine   Saturday    7:00 AM   \n",
       "\n",
       "  END TIME  START DATE    END DATE                          WEBSITE  \\\n",
       "0  8:00 PM  07/08/2015  09/02/2015  http://chicagofarmersmarkets.us   \n",
       "1  7:00 PM  06/30/2015  09/29/2015  http://chicagofarmersmarkets.us   \n",
       "2  1:00 PM  06/13/2015  10/24/2015  http://chicagofarmersmarkets.us   \n",
       "\n",
       "           TYPE LINK ACCEPTED   LATITUDE  LONGITUDE  \\\n",
       "0  Neighborhood             Y  41.857866 -87.661159   \n",
       "1  Neighborhood             Y  41.872636 -87.765010   \n",
       "2  Neighborhood             Y  41.955976 -87.679102   \n",
       "\n",
       "                    Location zip_codes  \n",
       "0    41.8578656, -87.6611589     60608  \n",
       "1  41.87263635, -87.76501013     60644  \n",
       "2  41.95597563, -87.67910157     60618  "
      ]
     },
     "execution_count": 385,
     "metadata": {},
     "output_type": "execute_result"
    }
   ],
   "source": [
    "df_market_zip_codes.head(3)"
   ]
  },
  {
   "cell_type": "code",
   "execution_count": 366,
   "metadata": {
    "ExecuteTime": {
     "end_time": "2017-05-12T01:44:08.456250Z",
     "start_time": "2017-05-12T01:44:08.451585"
    },
    "collapsed": false
   },
   "outputs": [],
   "source": [
    "# make a list of zip codes with farmer's markets\n",
    "\n",
    "market_zip_codes = df_market_zip_codes[\"zip_codes\"].tolist()"
   ]
  },
  {
   "cell_type": "code",
   "execution_count": 370,
   "metadata": {
    "ExecuteTime": {
     "end_time": "2017-05-12T01:46:50.245997Z",
     "start_time": "2017-05-12T01:46:50.130448"
    },
    "collapsed": false
   },
   "outputs": [],
   "source": [
    "# create a column with \"True\" if zip code contains and farmers market and \"false\" otherwise\n",
    "\n",
    "df2[\"has_market\"] = df2[\"zip_codes\"].isin(market_zip_codes)"
   ]
  },
  {
   "cell_type": "code",
   "execution_count": 376,
   "metadata": {
    "ExecuteTime": {
     "end_time": "2017-05-12T07:38:52.540195Z",
     "start_time": "2017-05-12T07:38:52.274608"
    },
    "collapsed": false,
    "scrolled": false
   },
   "outputs": [],
   "source": [
    "# create a subset of dataframe for train stops with farmer's markets.\n",
    "\n",
    "df_cta_market = df2.loc[df2['has_market'] == True]"
   ]
  },
  {
   "cell_type": "code",
   "execution_count": 383,
   "metadata": {
    "ExecuteTime": {
     "end_time": "2017-05-12T07:46:12.222746Z",
     "start_time": "2017-05-12T07:46:12.109433"
    },
    "collapsed": false
   },
   "outputs": [],
   "source": [
    "# really, only the past few years are indicative of current train ridership, \n",
    "# so shorten dataframe to past ~5 years\n",
    "\n",
    "df3 = df_cta_market[(df_cta_market['date'] > '2011-01-01')]"
   ]
  },
  {
   "cell_type": "code",
   "execution_count": 386,
   "metadata": {
    "ExecuteTime": {
     "end_time": "2017-05-12T07:58:41.557776Z",
     "start_time": "2017-05-12T07:58:41.532424"
    },
    "collapsed": false
   },
   "outputs": [
    {
     "data": {
      "text/html": [
       "<div>\n",
       "<table border=\"1\" class=\"dataframe\">\n",
       "  <thead>\n",
       "    <tr style=\"text-align: right;\">\n",
       "      <th></th>\n",
       "      <th>station_id</th>\n",
       "      <th>stationname</th>\n",
       "      <th>date</th>\n",
       "      <th>daytype</th>\n",
       "      <th>rides</th>\n",
       "      <th>STOP_ID</th>\n",
       "      <th>DIRECTION_ID</th>\n",
       "      <th>STOP_NAME</th>\n",
       "      <th>STATION_NAME</th>\n",
       "      <th>STATION_DESCRIPTIVE_NAME</th>\n",
       "      <th>Location</th>\n",
       "      <th>zip_codes</th>\n",
       "      <th>has_market</th>\n",
       "    </tr>\n",
       "  </thead>\n",
       "  <tbody>\n",
       "    <tr>\n",
       "      <th>15284</th>\n",
       "      <td>40030</td>\n",
       "      <td>Pulaski-Lake</td>\n",
       "      <td>2011-01-02</td>\n",
       "      <td>U</td>\n",
       "      <td>841</td>\n",
       "      <td>30005</td>\n",
       "      <td>E</td>\n",
       "      <td>Pulaski (63rd-bound)</td>\n",
       "      <td>Pulaski</td>\n",
       "      <td>Pulaski (Green Line)</td>\n",
       "      <td>41.885412, -87.725404</td>\n",
       "      <td>60644</td>\n",
       "      <td>True</td>\n",
       "    </tr>\n",
       "    <tr>\n",
       "      <th>15285</th>\n",
       "      <td>40030</td>\n",
       "      <td>Pulaski-Lake</td>\n",
       "      <td>2011-01-03</td>\n",
       "      <td>W</td>\n",
       "      <td>1955</td>\n",
       "      <td>30005</td>\n",
       "      <td>E</td>\n",
       "      <td>Pulaski (63rd-bound)</td>\n",
       "      <td>Pulaski</td>\n",
       "      <td>Pulaski (Green Line)</td>\n",
       "      <td>41.885412, -87.725404</td>\n",
       "      <td>60644</td>\n",
       "      <td>True</td>\n",
       "    </tr>\n",
       "    <tr>\n",
       "      <th>15286</th>\n",
       "      <td>40030</td>\n",
       "      <td>Pulaski-Lake</td>\n",
       "      <td>2011-01-04</td>\n",
       "      <td>W</td>\n",
       "      <td>1953</td>\n",
       "      <td>30005</td>\n",
       "      <td>E</td>\n",
       "      <td>Pulaski (63rd-bound)</td>\n",
       "      <td>Pulaski</td>\n",
       "      <td>Pulaski (Green Line)</td>\n",
       "      <td>41.885412, -87.725404</td>\n",
       "      <td>60644</td>\n",
       "      <td>True</td>\n",
       "    </tr>\n",
       "    <tr>\n",
       "      <th>15287</th>\n",
       "      <td>40030</td>\n",
       "      <td>Pulaski-Lake</td>\n",
       "      <td>2011-01-05</td>\n",
       "      <td>W</td>\n",
       "      <td>1974</td>\n",
       "      <td>30005</td>\n",
       "      <td>E</td>\n",
       "      <td>Pulaski (63rd-bound)</td>\n",
       "      <td>Pulaski</td>\n",
       "      <td>Pulaski (Green Line)</td>\n",
       "      <td>41.885412, -87.725404</td>\n",
       "      <td>60644</td>\n",
       "      <td>True</td>\n",
       "    </tr>\n",
       "    <tr>\n",
       "      <th>15288</th>\n",
       "      <td>40030</td>\n",
       "      <td>Pulaski-Lake</td>\n",
       "      <td>2011-01-06</td>\n",
       "      <td>W</td>\n",
       "      <td>1897</td>\n",
       "      <td>30005</td>\n",
       "      <td>E</td>\n",
       "      <td>Pulaski (63rd-bound)</td>\n",
       "      <td>Pulaski</td>\n",
       "      <td>Pulaski (Green Line)</td>\n",
       "      <td>41.885412, -87.725404</td>\n",
       "      <td>60644</td>\n",
       "      <td>True</td>\n",
       "    </tr>\n",
       "  </tbody>\n",
       "</table>\n",
       "</div>"
      ],
      "text/plain": [
       "       station_id   stationname       date daytype  rides  STOP_ID  \\\n",
       "15284       40030  Pulaski-Lake 2011-01-02       U    841    30005   \n",
       "15285       40030  Pulaski-Lake 2011-01-03       W   1955    30005   \n",
       "15286       40030  Pulaski-Lake 2011-01-04       W   1953    30005   \n",
       "15287       40030  Pulaski-Lake 2011-01-05       W   1974    30005   \n",
       "15288       40030  Pulaski-Lake 2011-01-06       W   1897    30005   \n",
       "\n",
       "      DIRECTION_ID             STOP_NAME STATION_NAME  \\\n",
       "15284            E  Pulaski (63rd-bound)      Pulaski   \n",
       "15285            E  Pulaski (63rd-bound)      Pulaski   \n",
       "15286            E  Pulaski (63rd-bound)      Pulaski   \n",
       "15287            E  Pulaski (63rd-bound)      Pulaski   \n",
       "15288            E  Pulaski (63rd-bound)      Pulaski   \n",
       "\n",
       "      STATION_DESCRIPTIVE_NAME               Location zip_codes has_market  \n",
       "15284     Pulaski (Green Line)  41.885412, -87.725404     60644       True  \n",
       "15285     Pulaski (Green Line)  41.885412, -87.725404     60644       True  \n",
       "15286     Pulaski (Green Line)  41.885412, -87.725404     60644       True  \n",
       "15287     Pulaski (Green Line)  41.885412, -87.725404     60644       True  \n",
       "15288     Pulaski (Green Line)  41.885412, -87.725404     60644       True  "
      ]
     },
     "execution_count": 386,
     "metadata": {},
     "output_type": "execute_result"
    }
   ],
   "source": [
    "df3.head()"
   ]
  },
  {
   "cell_type": "code",
   "execution_count": 389,
   "metadata": {
    "ExecuteTime": {
     "end_time": "2017-05-12T08:05:16.549908Z",
     "start_time": "2017-05-12T08:05:16.419540"
    },
    "collapsed": false
   },
   "outputs": [],
   "source": [
    "# create subset of dataframe for just weekends and holidays\n",
    "\n",
    "df3 = df3.loc[df3['daytype'] != \"W\"]"
   ]
  },
  {
   "cell_type": "code",
   "execution_count": 391,
   "metadata": {
    "ExecuteTime": {
     "end_time": "2017-05-12T08:11:33.519846Z",
     "start_time": "2017-05-12T08:11:08.396764"
    },
    "collapsed": true
   },
   "outputs": [],
   "source": [
    "# create a month column\n",
    "\n",
    "df3['month'] = pd.DatetimeIndex(df3['date']).month\n"
   ]
  },
  {
   "cell_type": "code",
   "execution_count": 397,
   "metadata": {
    "ExecuteTime": {
     "end_time": "2017-05-12T08:19:38.911145Z",
     "start_time": "2017-05-12T08:19:38.863657"
    },
    "collapsed": false
   },
   "outputs": [],
   "source": [
    "# create column that identifies spring months\n",
    "\n",
    "df3[\"spring\"] = df3[\"month\"].isin([3,4,5])"
   ]
  },
  {
   "cell_type": "code",
   "execution_count": 399,
   "metadata": {
    "ExecuteTime": {
     "end_time": "2017-05-12T08:21:14.093061Z",
     "start_time": "2017-05-12T08:21:14.047565"
    },
    "collapsed": false
   },
   "outputs": [],
   "source": [
    "# create subset of dataframe for just spring months\n",
    "\n",
    "df3 = df3.loc[df3['spring'] == True]"
   ]
  },
  {
   "cell_type": "markdown",
   "metadata": {
    "ExecuteTime": {
     "end_time": "2017-05-12T08:21:41.207814Z",
     "start_time": "2017-05-12T08:21:41.201617"
    }
   },
   "source": [
    "Our dataframe now represents train stops near farmers markets for spring months on the weekends. This isolates the target time and locations for our client. Now we want to find the stations with the highest ridership to ideally bring more foot traffic to the bakery. Below I identify the top 5 stations with the highest weekend ridership."
   ]
  },
  {
   "cell_type": "code",
   "execution_count": 402,
   "metadata": {
    "ExecuteTime": {
     "end_time": "2017-05-12T08:25:32.646154Z",
     "start_time": "2017-05-12T08:25:32.254525"
    },
    "collapsed": true
   },
   "outputs": [],
   "source": [
    "# pivot table of the sum of rides per day per station\n",
    "\n",
    "pt_date2 = df3.pivot_table(index=\"date\", columns=\"stationname\", \n",
    "                         values=\"rides\", aggfunc=\"sum\")"
   ]
  },
  {
   "cell_type": "code",
   "execution_count": 404,
   "metadata": {
    "ExecuteTime": {
     "end_time": "2017-05-12T08:26:46.947830Z",
     "start_time": "2017-05-12T08:26:46.895865"
    },
    "collapsed": true
   },
   "outputs": [],
   "source": [
    "# create a series of average daily ridership per station\n",
    "\n",
    "station_ridership_avg = pt_date2.mean(axis=0)"
   ]
  },
  {
   "cell_type": "code",
   "execution_count": 406,
   "metadata": {
    "ExecuteTime": {
     "end_time": "2017-05-12T08:27:50.611000Z",
     "start_time": "2017-05-12T08:27:50.547998"
    },
    "collapsed": false
   },
   "outputs": [],
   "source": [
    "# top five stations with highest average ridership per day\n",
    "top_five = station_ridership_avg.nlargest(n=5, keep='first')"
   ]
  },
  {
   "cell_type": "code",
   "execution_count": 426,
   "metadata": {
    "ExecuteTime": {
     "end_time": "2017-05-12T08:46:14.502188Z",
     "start_time": "2017-05-12T08:46:14.497984"
    },
    "collapsed": false
   },
   "outputs": [],
   "source": [
    "list_top_five = list(top_five.index)"
   ]
  },
  {
   "cell_type": "code",
   "execution_count": 427,
   "metadata": {
    "ExecuteTime": {
     "end_time": "2017-05-12T08:46:17.332798Z",
     "start_time": "2017-05-12T08:46:17.032528"
    },
    "collapsed": false
   },
   "outputs": [
    {
     "data": {
      "image/png": "[encoded data removed]",
      "text/plain": [
       "<matplotlib.figure.Figure at 0x11e085860>"
      ]
     },
     "metadata": {},
     "output_type": "display_data"
    }
   ],
   "source": [
    "# graph top five stations\n",
    "\n",
    "ax = top_five.plot(kind=\"bar\", title = \"Top Five Stations with Highest Average Weekend Ridership in Spring\")\n",
    "ax.set_ylabel(\"Rides\")\n",
    "ax.set_xlabel(\"Station Name\");"
   ]
  },
  {
   "cell_type": "markdown",
   "metadata": {},
   "source": [
    "**Map the top five stations**"
   ]
  },
  {
   "cell_type": "code",
   "execution_count": 428,
   "metadata": {
    "ExecuteTime": {
     "end_time": "2017-05-12T08:46:18.718702Z",
     "start_time": "2017-05-12T08:46:18.687322"
    },
    "collapsed": true
   },
   "outputs": [],
   "source": [
    "# need separate longitude and lat for mapping\n",
    "# Create two lists for the loop results to be placed\n",
    "lat = []\n",
    "lon = []\n",
    "\n",
    "# For each row in a varible,\n",
    "for row in df3['Location']:\n",
    "    # Try to,\n",
    "    try:\n",
    "        # Split the row by comma and append\n",
    "        # everything before the comma to lat\n",
    "        lat.append(row.split(',')[0])\n",
    "        # Split the row by comma and append\n",
    "        # everything after the comma to lon\n",
    "        lon.append(row.split(',')[1])\n",
    "    # But if you get an error\n",
    "    except:\n",
    "        # append a missing value to lat\n",
    "        lat.append(np.NaN)\n",
    "        # append a missing value to lon\n",
    "        lon.append(np.NaN)\n",
    "\n",
    "# Create two new columns from lat and lon\n",
    "df3['latitude'] = lat\n",
    "df3['longitude'] = lon"
   ]
  },
  {
   "cell_type": "code",
   "execution_count": 429,
   "metadata": {
    "ExecuteTime": {
     "end_time": "2017-05-12T08:46:21.581215Z",
     "start_time": "2017-05-12T08:46:21.575585"
    },
    "collapsed": false
   },
   "outputs": [],
   "source": [
    "df3[\"top_stations\"] = df3[\"stationname\"].isin(list_top_five)"
   ]
  },
  {
   "cell_type": "code",
   "execution_count": 430,
   "metadata": {
    "ExecuteTime": {
     "end_time": "2017-05-12T08:46:22.214650Z",
     "start_time": "2017-05-12T08:46:22.208193"
    },
    "collapsed": false
   },
   "outputs": [],
   "source": [
    "df_top_stations = df3.loc[df3[\"top_stations\"] == True]"
   ]
  },
  {
   "cell_type": "code",
   "execution_count": 432,
   "metadata": {
    "ExecuteTime": {
     "end_time": "2017-05-12T08:47:18.553523Z",
     "start_time": "2017-05-12T08:47:18.521391"
    },
    "collapsed": false
   },
   "outputs": [
    {
     "data": {
      "text/html": [
       "<div>\n",
       "<table border=\"1\" class=\"dataframe\">\n",
       "  <thead>\n",
       "    <tr style=\"text-align: right;\">\n",
       "      <th></th>\n",
       "      <th>station_id</th>\n",
       "      <th>stationname</th>\n",
       "      <th>date</th>\n",
       "      <th>daytype</th>\n",
       "      <th>rides</th>\n",
       "      <th>STOP_ID</th>\n",
       "      <th>DIRECTION_ID</th>\n",
       "      <th>STOP_NAME</th>\n",
       "      <th>STATION_NAME</th>\n",
       "      <th>STATION_DESCRIPTIVE_NAME</th>\n",
       "      <th>Location</th>\n",
       "      <th>zip_codes</th>\n",
       "      <th>has_market</th>\n",
       "      <th>month</th>\n",
       "      <th>spring</th>\n",
       "      <th>latitude</th>\n",
       "      <th>longitude</th>\n",
       "      <th>top_stations</th>\n",
       "    </tr>\n",
       "  </thead>\n",
       "  <tbody>\n",
       "    <tr>\n",
       "      <th>248012</th>\n",
       "      <td>40450</td>\n",
       "      <td>95th/Dan Ryan</td>\n",
       "      <td>2011-03-05</td>\n",
       "      <td>A</td>\n",
       "      <td>7359</td>\n",
       "      <td>30089</td>\n",
       "      <td>S</td>\n",
       "      <td>95th/Dan Ryan (95th-bound)</td>\n",
       "      <td>95th/Dan Ryan</td>\n",
       "      <td>95th/Dan Ryan (Red Line)</td>\n",
       "      <td>41.722377, -87.624342</td>\n",
       "      <td>60620</td>\n",
       "      <td>True</td>\n",
       "      <td>3</td>\n",
       "      <td>True</td>\n",
       "      <td>41.722377</td>\n",
       "      <td>-87.624342</td>\n",
       "      <td>True</td>\n",
       "    </tr>\n",
       "    <tr>\n",
       "      <th>248013</th>\n",
       "      <td>40450</td>\n",
       "      <td>95th/Dan Ryan</td>\n",
       "      <td>2011-03-06</td>\n",
       "      <td>U</td>\n",
       "      <td>5641</td>\n",
       "      <td>30089</td>\n",
       "      <td>S</td>\n",
       "      <td>95th/Dan Ryan (95th-bound)</td>\n",
       "      <td>95th/Dan Ryan</td>\n",
       "      <td>95th/Dan Ryan (Red Line)</td>\n",
       "      <td>41.722377, -87.624342</td>\n",
       "      <td>60620</td>\n",
       "      <td>True</td>\n",
       "      <td>3</td>\n",
       "      <td>True</td>\n",
       "      <td>41.722377</td>\n",
       "      <td>-87.624342</td>\n",
       "      <td>True</td>\n",
       "    </tr>\n",
       "    <tr>\n",
       "      <th>248019</th>\n",
       "      <td>40450</td>\n",
       "      <td>95th/Dan Ryan</td>\n",
       "      <td>2011-03-12</td>\n",
       "      <td>A</td>\n",
       "      <td>7815</td>\n",
       "      <td>30089</td>\n",
       "      <td>S</td>\n",
       "      <td>95th/Dan Ryan (95th-bound)</td>\n",
       "      <td>95th/Dan Ryan</td>\n",
       "      <td>95th/Dan Ryan (Red Line)</td>\n",
       "      <td>41.722377, -87.624342</td>\n",
       "      <td>60620</td>\n",
       "      <td>True</td>\n",
       "      <td>3</td>\n",
       "      <td>True</td>\n",
       "      <td>41.722377</td>\n",
       "      <td>-87.624342</td>\n",
       "      <td>True</td>\n",
       "    </tr>\n",
       "    <tr>\n",
       "      <th>248020</th>\n",
       "      <td>40450</td>\n",
       "      <td>95th/Dan Ryan</td>\n",
       "      <td>2011-03-13</td>\n",
       "      <td>U</td>\n",
       "      <td>5710</td>\n",
       "      <td>30089</td>\n",
       "      <td>S</td>\n",
       "      <td>95th/Dan Ryan (95th-bound)</td>\n",
       "      <td>95th/Dan Ryan</td>\n",
       "      <td>95th/Dan Ryan (Red Line)</td>\n",
       "      <td>41.722377, -87.624342</td>\n",
       "      <td>60620</td>\n",
       "      <td>True</td>\n",
       "      <td>3</td>\n",
       "      <td>True</td>\n",
       "      <td>41.722377</td>\n",
       "      <td>-87.624342</td>\n",
       "      <td>True</td>\n",
       "    </tr>\n",
       "    <tr>\n",
       "      <th>248026</th>\n",
       "      <td>40450</td>\n",
       "      <td>95th/Dan Ryan</td>\n",
       "      <td>2011-03-19</td>\n",
       "      <td>A</td>\n",
       "      <td>8144</td>\n",
       "      <td>30089</td>\n",
       "      <td>S</td>\n",
       "      <td>95th/Dan Ryan (95th-bound)</td>\n",
       "      <td>95th/Dan Ryan</td>\n",
       "      <td>95th/Dan Ryan (Red Line)</td>\n",
       "      <td>41.722377, -87.624342</td>\n",
       "      <td>60620</td>\n",
       "      <td>True</td>\n",
       "      <td>3</td>\n",
       "      <td>True</td>\n",
       "      <td>41.722377</td>\n",
       "      <td>-87.624342</td>\n",
       "      <td>True</td>\n",
       "    </tr>\n",
       "  </tbody>\n",
       "</table>\n",
       "</div>"
      ],
      "text/plain": [
       "        station_id    stationname       date daytype  rides  STOP_ID  \\\n",
       "248012       40450  95th/Dan Ryan 2011-03-05       A   7359    30089   \n",
       "248013       40450  95th/Dan Ryan 2011-03-06       U   5641    30089   \n",
       "248019       40450  95th/Dan Ryan 2011-03-12       A   7815    30089   \n",
       "248020       40450  95th/Dan Ryan 2011-03-13       U   5710    30089   \n",
       "248026       40450  95th/Dan Ryan 2011-03-19       A   8144    30089   \n",
       "\n",
       "       DIRECTION_ID                   STOP_NAME   STATION_NAME  \\\n",
       "248012            S  95th/Dan Ryan (95th-bound)  95th/Dan Ryan   \n",
       "248013            S  95th/Dan Ryan (95th-bound)  95th/Dan Ryan   \n",
       "248019            S  95th/Dan Ryan (95th-bound)  95th/Dan Ryan   \n",
       "248020            S  95th/Dan Ryan (95th-bound)  95th/Dan Ryan   \n",
       "248026            S  95th/Dan Ryan (95th-bound)  95th/Dan Ryan   \n",
       "\n",
       "        STATION_DESCRIPTIVE_NAME               Location zip_codes has_market  \\\n",
       "248012  95th/Dan Ryan (Red Line)  41.722377, -87.624342     60620       True   \n",
       "248013  95th/Dan Ryan (Red Line)  41.722377, -87.624342     60620       True   \n",
       "248019  95th/Dan Ryan (Red Line)  41.722377, -87.624342     60620       True   \n",
       "248020  95th/Dan Ryan (Red Line)  41.722377, -87.624342     60620       True   \n",
       "248026  95th/Dan Ryan (Red Line)  41.722377, -87.624342     60620       True   \n",
       "\n",
       "        month spring   latitude    longitude top_stations  \n",
       "248012      3   True  41.722377   -87.624342         True  \n",
       "248013      3   True  41.722377   -87.624342         True  \n",
       "248019      3   True  41.722377   -87.624342         True  \n",
       "248020      3   True  41.722377   -87.624342         True  \n",
       "248026      3   True  41.722377   -87.624342         True  "
      ]
     },
     "execution_count": 432,
     "metadata": {},
     "output_type": "execute_result"
    }
   ],
   "source": [
    "# new dataframe of top stations\n",
    "\n",
    "df_top_stations.head()"
   ]
  },
  {
   "cell_type": "code",
   "execution_count": 436,
   "metadata": {
    "ExecuteTime": {
     "end_time": "2017-05-12T08:49:34.965064Z",
     "start_time": "2017-05-12T08:49:34.882229"
    },
    "collapsed": false
   },
   "outputs": [],
   "source": [
    "# convert to csv for mapping\n",
    "\n",
    "df_top_stations.to_csv(\"top_stations\")"
   ]
  },
  {
   "cell_type": "markdown",
   "metadata": {},
   "source": [
    "To Do:\n",
    "\n",
    "Next steps- if CTA stop has a farmer's market, put true, else false in main df\n",
    "isolate zip codes with farmer's markets\n",
    "find high traffic weekend stations (assume buisness owner knows most people shop at bakery on weekends)\n",
    "choose top 5 stations\n",
    "visualize in carto\n",
    "graph station traffic\n",
    "owner wants to kick off in the spring b/c that's when farmer's markets become popular- look at spring data"
   ]
  },
  {
   "cell_type": "code",
   "execution_count": null,
   "metadata": {
    "collapsed": true
   },
   "outputs": [],
   "source": []
  },
  {
   "cell_type": "code",
   "execution_count": null,
   "metadata": {
    "collapsed": true
   },
   "outputs": [],
   "source": []
  },
  {
   "cell_type": "code",
   "execution_count": null,
   "metadata": {
    "collapsed": true
   },
   "outputs": [],
   "source": []
  },
  {
   "cell_type": "code",
   "execution_count": null,
   "metadata": {
    "collapsed": true
   },
   "outputs": [],
   "source": []
  }
 ],
 "metadata": {
  "kernelspec": {
   "display_name": "Python 3",
   "language": "python",
   "name": "python3"
  },
  "language_info": {
   "codemirror_mode": {
    "name": "ipython",
    "version": 3
   },
   "file_extension": ".py",
   "mimetype": "text/x-python",
   "name": "python",
   "nbconvert_exporter": "python",
   "pygments_lexer": "ipython3",
   "version": "3.6.0"
  }
 },
 "nbformat": 4,
 "nbformat_minor": 2
}
